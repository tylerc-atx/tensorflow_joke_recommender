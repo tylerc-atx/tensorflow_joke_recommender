{
 "cells": [
  {
   "cell_type": "markdown",
   "metadata": {},
   "source": [
    "# Building a GraphLab Matrix Factorization Recommender\n",
    "\n",
    "Yeah, fine, the starter-code for a popularity recommender wasn't that exciting. Let's see if we can tune a GraphLab recommender to do better!\n",
    "\n",
    "**Spoiler Alert**: Yes, we can."
   ]
  },
  {
   "cell_type": "code",
   "execution_count": 1,
   "metadata": {
    "collapsed": true
   },
   "outputs": [],
   "source": [
    "import numpy as np\n",
    "import pandas as pd\n",
    "\n",
    "import graphlab as gl\n",
    "\n",
    "import scoring"
   ]
  },
  {
   "cell_type": "markdown",
   "metadata": {},
   "source": [
    "### Load the dataset"
   ]
  },
  {
   "cell_type": "code",
   "execution_count": 2,
   "metadata": {
    "collapsed": true
   },
   "outputs": [],
   "source": [
    "training_set = pd.read_csv('jester_train.csv')\n",
    "test_set = pd.read_csv('jester_test.csv')"
   ]
  },
  {
   "cell_type": "code",
   "execution_count": 3,
   "metadata": {
    "collapsed": false
   },
   "outputs": [
    {
     "data": {
      "text/html": [
       "<div>\n",
       "<table border=\"1\" class=\"dataframe\">\n",
       "  <thead>\n",
       "    <tr style=\"text-align: right;\">\n",
       "      <th></th>\n",
       "      <th>user_id</th>\n",
       "      <th>joke_id</th>\n",
       "      <th>rating</th>\n",
       "    </tr>\n",
       "  </thead>\n",
       "  <tbody>\n",
       "    <tr>\n",
       "      <th>0</th>\n",
       "      <td>7302</td>\n",
       "      <td>29</td>\n",
       "      <td>7.156</td>\n",
       "    </tr>\n",
       "    <tr>\n",
       "      <th>1</th>\n",
       "      <td>61815</td>\n",
       "      <td>46</td>\n",
       "      <td>6.375</td>\n",
       "    </tr>\n",
       "    <tr>\n",
       "      <th>2</th>\n",
       "      <td>31128</td>\n",
       "      <td>96</td>\n",
       "      <td>2.281</td>\n",
       "    </tr>\n",
       "    <tr>\n",
       "      <th>3</th>\n",
       "      <td>36125</td>\n",
       "      <td>147</td>\n",
       "      <td>-1.781</td>\n",
       "    </tr>\n",
       "    <tr>\n",
       "      <th>4</th>\n",
       "      <td>18007</td>\n",
       "      <td>60</td>\n",
       "      <td>2.188</td>\n",
       "    </tr>\n",
       "  </tbody>\n",
       "</table>\n",
       "</div>"
      ],
      "text/plain": [
       "   user_id  joke_id  rating\n",
       "0     7302       29   7.156\n",
       "1    61815       46   6.375\n",
       "2    31128       96   2.281\n",
       "3    36125      147  -1.781\n",
       "4    18007       60   2.188"
      ]
     },
     "execution_count": 3,
     "metadata": {},
     "output_type": "execute_result"
    }
   ],
   "source": [
    "# Sanity check:\n",
    "training_set.head()"
   ]
  },
  {
   "cell_type": "code",
   "execution_count": 4,
   "metadata": {
    "collapsed": false
   },
   "outputs": [
    {
     "data": {
      "text/html": [
       "<div>\n",
       "<table border=\"1\" class=\"dataframe\">\n",
       "  <thead>\n",
       "    <tr style=\"text-align: right;\">\n",
       "      <th></th>\n",
       "      <th>user_id</th>\n",
       "      <th>joke_id</th>\n",
       "    </tr>\n",
       "  </thead>\n",
       "  <tbody>\n",
       "    <tr>\n",
       "      <th>0</th>\n",
       "      <td>30762</td>\n",
       "      <td>24</td>\n",
       "    </tr>\n",
       "    <tr>\n",
       "      <th>1</th>\n",
       "      <td>54667</td>\n",
       "      <td>128</td>\n",
       "    </tr>\n",
       "    <tr>\n",
       "      <th>2</th>\n",
       "      <td>38515</td>\n",
       "      <td>68</td>\n",
       "    </tr>\n",
       "    <tr>\n",
       "      <th>3</th>\n",
       "      <td>44643</td>\n",
       "      <td>39</td>\n",
       "    </tr>\n",
       "    <tr>\n",
       "      <th>4</th>\n",
       "      <td>58677</td>\n",
       "      <td>13</td>\n",
       "    </tr>\n",
       "  </tbody>\n",
       "</table>\n",
       "</div>"
      ],
      "text/plain": [
       "   user_id  joke_id\n",
       "0    30762       24\n",
       "1    54667      128\n",
       "2    38515       68\n",
       "3    44643       39\n",
       "4    58677       13"
      ]
     },
     "execution_count": 4,
     "metadata": {},
     "output_type": "execute_result"
    }
   ],
   "source": [
    "# Sanity check:\n",
    "test_set.head()"
   ]
  },
  {
   "cell_type": "markdown",
   "metadata": {},
   "source": [
    "### A word or two about overfitting\n",
    "\n",
    "Matrix Factorization models can easily overfit the data due to the HUGE number of parameters which compose the model. In fact, it's likely you'll have _more_ parameters in your factorization model than you have ratings in your dataset! The little overfitting buzzer in your brain should be louder than ever.\n",
    "\n",
    "Let's think about how we can remove variance (recall the bias-variance tradeoff) from our model in order to not overfit (as much, at least). How can we lower the variance of our factorization model? (pause and think about it)\n",
    "\n",
    "There are two obvious ways:\n",
    "1. Decrease `k` (the number of latent factors), and/or\n",
    "2. Increase `lambda` (the regularization tuning parameter; note that GraphLab exposes two regularization terms to us).\n",
    "\n",
    "Another thought: If we wanted to increase the number of latent factors (i.e. increase `k`) we can do that, but we'll need EVEN MORE regularization to offset the variance introduced by having more latent factors.\n",
    "\n",
    "So, here we go. Below is how to train and use a GraphLab matrix factorization recommender. We'll start with (mostly) the defaults, but I've indicated below which hyperparameters should be tuned (which we'll do later in this notebook).\n",
    "\n",
    "See documentation [here](https://turi.com/products/create/docs/generated/graphlab.recommender.factorization_recommender.create.html)."
   ]
  },
  {
   "cell_type": "code",
   "execution_count": 5,
   "metadata": {
    "collapsed": false,
    "scrolled": false
   },
   "outputs": [
    {
     "name": "stdout",
     "output_type": "stream",
     "text": [
      "\n"
     ]
    },
    {
     "name": "stderr",
     "output_type": "stream",
     "text": [
      "[INFO] graphlab.cython.cy_server: GraphLab Create v2.1 started. Logging: /tmp/graphlab_server_1485392592.log\n"
     ]
    },
    {
     "data": {
      "text/html": [
       "<pre>Recsys training: model = factorization_recommender</pre>"
      ],
      "text/plain": [
       "Recsys training: model = factorization_recommender"
      ]
     },
     "metadata": {},
     "output_type": "display_data"
    },
    {
     "data": {
      "text/html": [
       "<pre>Preparing data set.</pre>"
      ],
      "text/plain": [
       "Preparing data set."
      ]
     },
     "metadata": {},
     "output_type": "display_data"
    },
    {
     "data": {
      "text/html": [
       "<pre>    Data has 1000000 observations with 58125 users and 140 items.</pre>"
      ],
      "text/plain": [
       "    Data has 1000000 observations with 58125 users and 140 items."
      ]
     },
     "metadata": {},
     "output_type": "display_data"
    },
    {
     "data": {
      "text/html": [
       "<pre>    Data prepared in: 0.574595s</pre>"
      ],
      "text/plain": [
       "    Data prepared in: 0.574595s"
      ]
     },
     "metadata": {},
     "output_type": "display_data"
    },
    {
     "data": {
      "text/html": [
       "<pre>Training factorization_recommender for recommendations.</pre>"
      ],
      "text/plain": [
       "Training factorization_recommender for recommendations."
      ]
     },
     "metadata": {},
     "output_type": "display_data"
    },
    {
     "data": {
      "text/html": [
       "<pre>+--------------------------------+--------------------------------------------------+----------+</pre>"
      ],
      "text/plain": [
       "+--------------------------------+--------------------------------------------------+----------+"
      ]
     },
     "metadata": {},
     "output_type": "display_data"
    },
    {
     "data": {
      "text/html": [
       "<pre>| Parameter                      | Description                                      | Value    |</pre>"
      ],
      "text/plain": [
       "| Parameter                      | Description                                      | Value    |"
      ]
     },
     "metadata": {},
     "output_type": "display_data"
    },
    {
     "data": {
      "text/html": [
       "<pre>+--------------------------------+--------------------------------------------------+----------+</pre>"
      ],
      "text/plain": [
       "+--------------------------------+--------------------------------------------------+----------+"
      ]
     },
     "metadata": {},
     "output_type": "display_data"
    },
    {
     "data": {
      "text/html": [
       "<pre>| num_factors                    | Factor Dimension                                 | 8        |</pre>"
      ],
      "text/plain": [
       "| num_factors                    | Factor Dimension                                 | 8        |"
      ]
     },
     "metadata": {},
     "output_type": "display_data"
    },
    {
     "data": {
      "text/html": [
       "<pre>| regularization                 | L2 Regularization on Factors                     | 1e-08    |</pre>"
      ],
      "text/plain": [
       "| regularization                 | L2 Regularization on Factors                     | 1e-08    |"
      ]
     },
     "metadata": {},
     "output_type": "display_data"
    },
    {
     "data": {
      "text/html": [
       "<pre>| solver                         | Solver used for training                         | sgd      |</pre>"
      ],
      "text/plain": [
       "| solver                         | Solver used for training                         | sgd      |"
      ]
     },
     "metadata": {},
     "output_type": "display_data"
    },
    {
     "data": {
      "text/html": [
       "<pre>| linear_regularization          | L2 Regularization on Linear Coefficients         | 1e-10    |</pre>"
      ],
      "text/plain": [
       "| linear_regularization          | L2 Regularization on Linear Coefficients         | 1e-10    |"
      ]
     },
     "metadata": {},
     "output_type": "display_data"
    },
    {
     "data": {
      "text/html": [
       "<pre>| max_iterations                 | Maximum Number of Iterations                     | 100      |</pre>"
      ],
      "text/plain": [
       "| max_iterations                 | Maximum Number of Iterations                     | 100      |"
      ]
     },
     "metadata": {},
     "output_type": "display_data"
    },
    {
     "data": {
      "text/html": [
       "<pre>+--------------------------------+--------------------------------------------------+----------+</pre>"
      ],
      "text/plain": [
       "+--------------------------------+--------------------------------------------------+----------+"
      ]
     },
     "metadata": {},
     "output_type": "display_data"
    },
    {
     "data": {
      "text/html": [
       "<pre>  Optimizing model using SGD; tuning step size.</pre>"
      ],
      "text/plain": [
       "  Optimizing model using SGD; tuning step size."
      ]
     },
     "metadata": {},
     "output_type": "display_data"
    },
    {
     "data": {
      "text/html": [
       "<pre>  Using 125000 / 1000000 points for tuning the step size.</pre>"
      ],
      "text/plain": [
       "  Using 125000 / 1000000 points for tuning the step size."
      ]
     },
     "metadata": {},
     "output_type": "display_data"
    },
    {
     "data": {
      "text/html": [
       "<pre>+---------+-------------------+------------------------------------------+</pre>"
      ],
      "text/plain": [
       "+---------+-------------------+------------------------------------------+"
      ]
     },
     "metadata": {},
     "output_type": "display_data"
    },
    {
     "data": {
      "text/html": [
       "<pre>| Attempt | Initial Step Size | Estimated Objective Value                |</pre>"
      ],
      "text/plain": [
       "| Attempt | Initial Step Size | Estimated Objective Value                |"
      ]
     },
     "metadata": {},
     "output_type": "display_data"
    },
    {
     "data": {
      "text/html": [
       "<pre>+---------+-------------------+------------------------------------------+</pre>"
      ],
      "text/plain": [
       "+---------+-------------------+------------------------------------------+"
      ]
     },
     "metadata": {},
     "output_type": "display_data"
    },
    {
     "data": {
      "text/html": [
       "<pre>| 0       | 25                | No Decrease (228.262 >= 28.1718)         |</pre>"
      ],
      "text/plain": [
       "| 0       | 25                | No Decrease (228.262 >= 28.1718)         |"
      ]
     },
     "metadata": {},
     "output_type": "display_data"
    },
    {
     "data": {
      "text/html": [
       "<pre>| 1       | 6.25              | No Decrease (206.717 >= 28.1718)         |</pre>"
      ],
      "text/plain": [
       "| 1       | 6.25              | No Decrease (206.717 >= 28.1718)         |"
      ]
     },
     "metadata": {},
     "output_type": "display_data"
    },
    {
     "data": {
      "text/html": [
       "<pre>| 2       | 1.5625            | No Decrease (165.026 >= 28.1718)         |</pre>"
      ],
      "text/plain": [
       "| 2       | 1.5625            | No Decrease (165.026 >= 28.1718)         |"
      ]
     },
     "metadata": {},
     "output_type": "display_data"
    },
    {
     "data": {
      "text/html": [
       "<pre>| 3       | 0.390625          | No Decrease (96.7534 >= 28.1718)         |</pre>"
      ],
      "text/plain": [
       "| 3       | 0.390625          | No Decrease (96.7534 >= 28.1718)         |"
      ]
     },
     "metadata": {},
     "output_type": "display_data"
    },
    {
     "data": {
      "text/html": [
       "<pre>| 4       | 0.0976562         | 18.1651                                  |</pre>"
      ],
      "text/plain": [
       "| 4       | 0.0976562         | 18.1651                                  |"
      ]
     },
     "metadata": {},
     "output_type": "display_data"
    },
    {
     "data": {
      "text/html": [
       "<pre>| 5       | 0.0488281         | 5.59853                                  |</pre>"
      ],
      "text/plain": [
       "| 5       | 0.0488281         | 5.59853                                  |"
      ]
     },
     "metadata": {},
     "output_type": "display_data"
    },
    {
     "data": {
      "text/html": [
       "<pre>| 6       | 0.0244141         | 2.53559                                  |</pre>"
      ],
      "text/plain": [
       "| 6       | 0.0244141         | 2.53559                                  |"
      ]
     },
     "metadata": {},
     "output_type": "display_data"
    },
    {
     "data": {
      "text/html": [
       "<pre>| 7       | 0.012207          | 10.5193                                  |</pre>"
      ],
      "text/plain": [
       "| 7       | 0.012207          | 10.5193                                  |"
      ]
     },
     "metadata": {},
     "output_type": "display_data"
    },
    {
     "data": {
      "text/html": [
       "<pre>+---------+-------------------+------------------------------------------+</pre>"
      ],
      "text/plain": [
       "+---------+-------------------+------------------------------------------+"
      ]
     },
     "metadata": {},
     "output_type": "display_data"
    },
    {
     "data": {
      "text/html": [
       "<pre>| Final   | 0.0244141         | 2.53559                                  |</pre>"
      ],
      "text/plain": [
       "| Final   | 0.0244141         | 2.53559                                  |"
      ]
     },
     "metadata": {},
     "output_type": "display_data"
    },
    {
     "data": {
      "text/html": [
       "<pre>+---------+-------------------+------------------------------------------+</pre>"
      ],
      "text/plain": [
       "+---------+-------------------+------------------------------------------+"
      ]
     },
     "metadata": {},
     "output_type": "display_data"
    },
    {
     "data": {
      "text/html": [
       "<pre>Starting Optimization.</pre>"
      ],
      "text/plain": [
       "Starting Optimization."
      ]
     },
     "metadata": {},
     "output_type": "display_data"
    },
    {
     "data": {
      "text/html": [
       "<pre>+---------+--------------+-------------------+-----------------------+-------------+</pre>"
      ],
      "text/plain": [
       "+---------+--------------+-------------------+-----------------------+-------------+"
      ]
     },
     "metadata": {},
     "output_type": "display_data"
    },
    {
     "data": {
      "text/html": [
       "<pre>| Iter.   | Elapsed Time | Approx. Objective | Approx. Training RMSE | Step Size   |</pre>"
      ],
      "text/plain": [
       "| Iter.   | Elapsed Time | Approx. Objective | Approx. Training RMSE | Step Size   |"
      ]
     },
     "metadata": {},
     "output_type": "display_data"
    },
    {
     "data": {
      "text/html": [
       "<pre>+---------+--------------+-------------------+-----------------------+-------------+</pre>"
      ],
      "text/plain": [
       "+---------+--------------+-------------------+-----------------------+-------------+"
      ]
     },
     "metadata": {},
     "output_type": "display_data"
    },
    {
     "data": {
      "text/html": [
       "<pre>| Initial | 91us         | 28.1266           | 5.30346               |             |</pre>"
      ],
      "text/plain": [
       "| Initial | 91us         | 28.1266           | 5.30346               |             |"
      ]
     },
     "metadata": {},
     "output_type": "display_data"
    },
    {
     "data": {
      "text/html": [
       "<pre>+---------+--------------+-------------------+-----------------------+-------------+</pre>"
      ],
      "text/plain": [
       "+---------+--------------+-------------------+-----------------------+-------------+"
      ]
     },
     "metadata": {},
     "output_type": "display_data"
    },
    {
     "data": {
      "text/html": [
       "<pre>| 1       | 231.941ms    | 22.3304           | 4.72521               | 0.0244141   |</pre>"
      ],
      "text/plain": [
       "| 1       | 231.941ms    | 22.3304           | 4.72521               | 0.0244141   |"
      ]
     },
     "metadata": {},
     "output_type": "display_data"
    },
    {
     "data": {
      "text/html": [
       "<pre>| 2       | 457.527ms    | 18.1644           | 4.26166               | 0.0145167   |</pre>"
      ],
      "text/plain": [
       "| 2       | 457.527ms    | 18.1644           | 4.26166               | 0.0145167   |"
      ]
     },
     "metadata": {},
     "output_type": "display_data"
    },
    {
     "data": {
      "text/html": [
       "<pre>| 3       | 670.753ms    | 15.9695           | 3.99587               | 0.0107102   |</pre>"
      ],
      "text/plain": [
       "| 3       | 670.753ms    | 15.9695           | 3.99587               | 0.0107102   |"
      ]
     },
     "metadata": {},
     "output_type": "display_data"
    },
    {
     "data": {
      "text/html": [
       "<pre>| 4       | 893.384ms    | 14.6667           | 3.82939               | 0.00863167  |</pre>"
      ],
      "text/plain": [
       "| 4       | 893.384ms    | 14.6667           | 3.82939               | 0.00863167  |"
      ]
     },
     "metadata": {},
     "output_type": "display_data"
    },
    {
     "data": {
      "text/html": [
       "<pre>| 5       | 1.12s        | 13.7245           | 3.70432               | 0.00730151  |</pre>"
      ],
      "text/plain": [
       "| 5       | 1.12s        | 13.7245           | 3.70432               | 0.00730151  |"
      ]
     },
     "metadata": {},
     "output_type": "display_data"
    },
    {
     "data": {
      "text/html": [
       "<pre>| 6       | 1.32s        | 12.9694           | 3.60094               | 0.00636835  |</pre>"
      ],
      "text/plain": [
       "| 6       | 1.32s        | 12.9694           | 3.60094               | 0.00636835  |"
      ]
     },
     "metadata": {},
     "output_type": "display_data"
    },
    {
     "data": {
      "text/html": [
       "<pre>| 10      | 2.20s        | 11.1132           | 3.33322               | 0.0043415   |</pre>"
      ],
      "text/plain": [
       "| 10      | 2.20s        | 11.1132           | 3.33322               | 0.0043415   |"
      ]
     },
     "metadata": {},
     "output_type": "display_data"
    },
    {
     "data": {
      "text/html": [
       "<pre>| 11      | 2.41s        | 10.8107           | 3.28752               | 0.00404199  |</pre>"
      ],
      "text/plain": [
       "| 11      | 2.41s        | 10.8107           | 3.28752               | 0.00404199  |"
      ]
     },
     "metadata": {},
     "output_type": "display_data"
    },
    {
     "data": {
      "text/html": [
       "<pre>| 15      | 3.32s        | 10.0125           | 3.16378               | 0.00320311  |</pre>"
      ],
      "text/plain": [
       "| 15      | 3.32s        | 10.0125           | 3.16378               | 0.00320311  |"
      ]
     },
     "metadata": {},
     "output_type": "display_data"
    },
    {
     "data": {
      "text/html": [
       "<pre>| 20      | 4.43s        | 9.47293           | 3.07731               | 0.00258147  |</pre>"
      ],
      "text/plain": [
       "| 20      | 4.43s        | 9.47293           | 3.07731               | 0.00258147  |"
      ]
     },
     "metadata": {},
     "output_type": "display_data"
    },
    {
     "data": {
      "text/html": [
       "<pre>| 25      | 5.56s        | 9.15387           | 3.02501               | 0.00218366  |</pre>"
      ],
      "text/plain": [
       "| 25      | 5.56s        | 9.15387           | 3.02501               | 0.00218366  |"
      ]
     },
     "metadata": {},
     "output_type": "display_data"
    },
    {
     "data": {
      "text/html": [
       "<pre>| 30      | 6.66s        | 8.93517           | 2.98864               | 0.00190458  |</pre>"
      ],
      "text/plain": [
       "| 30      | 6.66s        | 8.93517           | 2.98864               | 0.00190458  |"
      ]
     },
     "metadata": {},
     "output_type": "display_data"
    },
    {
     "data": {
      "text/html": [
       "<pre>| 35      | 7.76s        | 8.77851           | 2.9623                | 0.00169664  |</pre>"
      ],
      "text/plain": [
       "| 35      | 7.76s        | 8.77851           | 2.9623                | 0.00169664  |"
      ]
     },
     "metadata": {},
     "output_type": "display_data"
    },
    {
     "data": {
      "text/html": [
       "<pre>| 40      | 8.86s        | 8.66522           | 2.94311               | 0.00153495  |</pre>"
      ],
      "text/plain": [
       "| 40      | 8.86s        | 8.66522           | 2.94311               | 0.00153495  |"
      ]
     },
     "metadata": {},
     "output_type": "display_data"
    },
    {
     "data": {
      "text/html": [
       "<pre>| 45      | 9.95s        | 8.57996           | 2.92859               | 0.00140518  |</pre>"
      ],
      "text/plain": [
       "| 45      | 9.95s        | 8.57996           | 2.92859               | 0.00140518  |"
      ]
     },
     "metadata": {},
     "output_type": "display_data"
    },
    {
     "data": {
      "text/html": [
       "<pre>| 50      | 11.02s       | 8.50578           | 2.91589               | 0.00129841  |</pre>"
      ],
      "text/plain": [
       "| 50      | 11.02s       | 8.50578           | 2.91589               | 0.00129841  |"
      ]
     },
     "metadata": {},
     "output_type": "display_data"
    },
    {
     "data": {
      "text/html": [
       "<pre>| 51      | 11.25s       | 8.4952            | 2.91408               | 0.00127927  |</pre>"
      ],
      "text/plain": [
       "| 51      | 11.25s       | 8.4952            | 2.91408               | 0.00127927  |"
      ]
     },
     "metadata": {},
     "output_type": "display_data"
    },
    {
     "data": {
      "text/html": [
       "<pre>| 55      | 12.16s       | 8.44822           | 2.906                 | 0.00120884  |</pre>"
      ],
      "text/plain": [
       "| 55      | 12.16s       | 8.44822           | 2.906                 | 0.00120884  |"
      ]
     },
     "metadata": {},
     "output_type": "display_data"
    },
    {
     "data": {
      "text/html": [
       "<pre>| 60      | 13.22s       | 8.39757           | 2.89727               | 0.00113247  |</pre>"
      ],
      "text/plain": [
       "| 60      | 13.22s       | 8.39757           | 2.89727               | 0.00113247  |"
      ]
     },
     "metadata": {},
     "output_type": "display_data"
    },
    {
     "data": {
      "text/html": [
       "<pre>| 65      | 14.30s       | 8.35823           | 2.89047               | 0.00106649  |</pre>"
      ],
      "text/plain": [
       "| 65      | 14.30s       | 8.35823           | 2.89047               | 0.00106649  |"
      ]
     },
     "metadata": {},
     "output_type": "display_data"
    },
    {
     "data": {
      "text/html": [
       "<pre>| 70      | 15.39s       | 8.32121           | 2.88406               | 0.00100883  |</pre>"
      ],
      "text/plain": [
       "| 70      | 15.39s       | 8.32121           | 2.88406               | 0.00100883  |"
      ]
     },
     "metadata": {},
     "output_type": "display_data"
    },
    {
     "data": {
      "text/html": [
       "<pre>| 75      | 16.50s       | 8.28878           | 2.87842               | 0.000957953 |</pre>"
      ],
      "text/plain": [
       "| 75      | 16.50s       | 8.28878           | 2.87842               | 0.000957953 |"
      ]
     },
     "metadata": {},
     "output_type": "display_data"
    },
    {
     "data": {
      "text/html": [
       "<pre>| 80      | 17.60s       | 8.26259           | 2.87387               | 0.000912688 |</pre>"
      ],
      "text/plain": [
       "| 80      | 17.60s       | 8.26259           | 2.87387               | 0.000912688 |"
      ]
     },
     "metadata": {},
     "output_type": "display_data"
    },
    {
     "data": {
      "text/html": [
       "<pre>| 85      | 18.68s       | 8.23848           | 2.86967               | 0.000872119 |</pre>"
      ],
      "text/plain": [
       "| 85      | 18.68s       | 8.23848           | 2.86967               | 0.000872119 |"
      ]
     },
     "metadata": {},
     "output_type": "display_data"
    },
    {
     "data": {
      "text/html": [
       "<pre>| 90      | 19.77s       | 8.21484           | 2.86555               | 0.000835523 |</pre>"
      ],
      "text/plain": [
       "| 90      | 19.77s       | 8.21484           | 2.86555               | 0.000835523 |"
      ]
     },
     "metadata": {},
     "output_type": "display_data"
    },
    {
     "data": {
      "text/html": [
       "<pre>| 95      | 20.87s       | 8.19488           | 2.86206               | 0.00080232  |</pre>"
      ],
      "text/plain": [
       "| 95      | 20.87s       | 8.19488           | 2.86206               | 0.00080232  |"
      ]
     },
     "metadata": {},
     "output_type": "display_data"
    },
    {
     "data": {
      "text/html": [
       "<pre>| 100     | 21.98s       | 8.17703           | 2.85894               | 0.00077204  |</pre>"
      ],
      "text/plain": [
       "| 100     | 21.98s       | 8.17703           | 2.85894               | 0.00077204  |"
      ]
     },
     "metadata": {},
     "output_type": "display_data"
    },
    {
     "data": {
      "text/html": [
       "<pre>+---------+--------------+-------------------+-----------------------+-------------+</pre>"
      ],
      "text/plain": [
       "+---------+--------------+-------------------+-----------------------+-------------+"
      ]
     },
     "metadata": {},
     "output_type": "display_data"
    },
    {
     "data": {
      "text/html": [
       "<pre>Optimization Complete: Maximum number of passes through the data reached.</pre>"
      ],
      "text/plain": [
       "Optimization Complete: Maximum number of passes through the data reached."
      ]
     },
     "metadata": {},
     "output_type": "display_data"
    },
    {
     "data": {
      "text/html": [
       "<pre>Computing final objective value and training RMSE.</pre>"
      ],
      "text/plain": [
       "Computing final objective value and training RMSE."
      ]
     },
     "metadata": {},
     "output_type": "display_data"
    },
    {
     "data": {
      "text/html": [
       "<pre>       Final objective value: 7.95361</pre>"
      ],
      "text/plain": [
       "       Final objective value: 7.95361"
      ]
     },
     "metadata": {},
     "output_type": "display_data"
    },
    {
     "data": {
      "text/html": [
       "<pre>       Final training RMSE: 2.81959</pre>"
      ],
      "text/plain": [
       "       Final training RMSE: 2.81959"
      ]
     },
     "metadata": {},
     "output_type": "display_data"
    },
    {
     "name": "stdout",
     "output_type": "stream",
     "text": [
      "Test set RMSE: 5.03042742439\n",
      "Factorization recommender score: 2.21201084437\n"
     ]
    }
   ],
   "source": [
    "# Train on the training set.\n",
    "factor_rec = gl.factorization_recommender.create(observation_data=gl.SFrame(training_set),\n",
    "                                                 user_id=\"user_id\",\n",
    "                                                 item_id=\"joke_id\",\n",
    "                                                 target='rating',\n",
    "                                                 num_factors=8,                  # <-- we'll tune this later!\n",
    "                                                 regularization=1e-08,           # <-- we'll tune this later!\n",
    "                                                 linear_regularization=1e-10,    # <-- we'll tune this later!\n",
    "                                                 max_iterations=100,\n",
    "                                                 solver='auto',\n",
    "                                                 random_seed=12345,\n",
    "                                                 verbose=True)\n",
    "\n",
    "# Predict on the test set.\n",
    "factor_predictions = test_set.copy()\n",
    "factor_predictions['rating'] = factor_rec.predict(gl.SFrame(test_set))\n",
    "\n",
    "# Output the test set RMSE.\n",
    "# This will help us know how much we're overfitting by comparing it to the RMSE of the _training_ set.\n",
    "print 'Test set RMSE:', scoring.score_rmse(factor_predictions)\n",
    "\n",
    "# Finally, output our model's _real_ score according to the top-5-percent scoring metric used by this repo.\n",
    "print 'Factorization recommender score:', scoring.score_top_5_percent(factor_predictions)"
   ]
  },
  {
   "cell_type": "markdown",
   "metadata": {},
   "source": [
    "The model above isn't doing very well. Looking at the RMSE of the training set (2.81959) compared to the RMSE of the test set (5.0304), it looks like it is overfitting the training data way too much. We can deal with that by (1) decreasing `k`, and/or (2) increasing the regularization tuning parameters.\n",
    "\n",
    "The other major indication that we're doing something wrong is that our top-5-percent metric is WORSE than the Popularity Recommender! Yikes, all this work, and we're doing worse than before...\n",
    "\n",
    "Next, let's search for some hyperparameters which give better results. Once we find those hyperparameters, we'll comment about why they make sense in light of our observations about the overfitting we've seen thus far."
   ]
  },
  {
   "cell_type": "markdown",
   "metadata": {},
   "source": [
    "### Hyperparameter Turning via Grid Search\n",
    "\n",
    "Next we'll do a grid search over the hyperparameter space we think to be reasonable. Grid searching is a tricky, boring process.\n",
    "\n",
    "It's _tricky_ because you cannot search the entire hyperparameter space; you have to search a relatively small subspace in order for the grid search to terminate in our lifetimes. Here's my approach to knowing a somewhat reasonable subspace to search:\n",
    "1. I trained (outside of this notebook) several matrix factorization models one-by-one, examining the results each time. This allowed me to see roughly the reasonable range of some of the hyperparameters. E.g. I realized that a regularization penalty greater than 1e-3 caused the model to cease learning no matter how many latent features I used, so that became a boundary.\n",
    "2. Knowing the math behind the model will save you some searching time. E.g. I saw that we were dramatically overfitting with a regularization penalty of 1e-8, meaning that trying anything smaller than that would be silly unless we decreased `k`. So to experiment, I kept the regularization parameter at 1e-8, decreased `k` to 2, and saw that we were _still_ overfitting! That sealed the deal: a regularization term less than 1e-8 would never work, so that became a boundary.\n",
    "\n",
    "Once you find a good hyperparameter subspace to search, you enter the _boring_ part of grid searching. You decide how long you are willing to wait for the grid search to run (in my case, I'm willing to let it run overnight, so 8 hours), then you set it up and let it run. And you _wait_. In my case, from training the models one-by-one above, I know that it takes about 2 minutes to train one model. Back-of-the-envelope estimate: That means I can train ~240 models in 8 hours, which I'll consider an upper bound. I decided to set up the grid in the cell below which will train 150 independent models.\n",
    "\n",
    "Below we perform the grid search using GraphLab's grid search interface. See the documentation [here](https://turi.com/products/create/docs/generated/graphlab.toolkits.model_parameter_search.grid_search.create.html)."
   ]
  },
  {
   "cell_type": "code",
   "execution_count": 6,
   "metadata": {
    "collapsed": false,
    "scrolled": true
   },
   "outputs": [
    {
     "name": "stderr",
     "output_type": "stream",
     "text": [
      "[INFO] graphlab.deploy.job: Validating job.\n",
      "[INFO] graphlab.deploy.job: Creating a LocalAsync environment called 'async'.\n",
      "[INFO] graphlab.deploy.map_job: Validation complete. Job: 'Model-Parameter-Search-Jan-26-2017-01-05-1700000' ready for execution\n",
      "[INFO] graphlab.deploy.map_job: Job: 'Model-Parameter-Search-Jan-26-2017-01-05-1700000' scheduled.\n",
      "[INFO] graphlab.deploy.job: Validating job.\n",
      "[INFO] graphlab.deploy.map_job: A job with name 'Model-Parameter-Search-Jan-26-2017-01-05-1700000' already exists. Renaming the job to 'Model-Parameter-Search-Jan-26-2017-01-05-1700000-c9312'.\n",
      "[INFO] graphlab.deploy.map_job: Validation complete. Job: 'Model-Parameter-Search-Jan-26-2017-01-05-1700000-c9312' ready for execution\n",
      "[INFO] graphlab.deploy.map_job: Job: 'Model-Parameter-Search-Jan-26-2017-01-05-1700000-c9312' scheduled.\n",
      "[INFO] graphlab.deploy.job: Validating job.\n",
      "[INFO] graphlab.deploy.map_job: Validation complete. Job: 'Model-Parameter-Search-Jan-26-2017-01-05-1700001' ready for execution\n",
      "[INFO] graphlab.deploy.map_job: Job: 'Model-Parameter-Search-Jan-26-2017-01-05-1700001' scheduled.\n",
      "[INFO] graphlab.deploy.job: Validating job.\n",
      "[INFO] graphlab.deploy.map_job: Validation complete. Job: 'Model-Parameter-Search-Jan-26-2017-01-05-1700002' ready for execution\n",
      "[INFO] graphlab.deploy.map_job: Job: 'Model-Parameter-Search-Jan-26-2017-01-05-1700002' scheduled.\n"
     ]
    }
   ],
   "source": [
    "grid_params = {\n",
    "    'user_id': \"user_id\",\n",
    "    'item_id': \"joke_id\",\n",
    "    'target': 'rating',\n",
    "    'num_factors':              [2, 4, 8, 16, 32, 64],            # <-- we're tuning this\n",
    "    'regularization':           [5e-2, 1e-3, 1e-4, 1e-5, 1e-7],   # <-- ... and this...\n",
    "    'linear_regularization':    [1e-3, 1e-4, 1e-5, 1e-7, 1e-9],   # <-- ... and this.\n",
    "    'max_iterations': 100,\n",
    "    'solver': 'auto',\n",
    "    'random_seed': 12345,\n",
    "    'verbose': True\n",
    "}\n",
    "\n",
    "def grid_scorer(model, training_set, validation_set):\n",
    "    factor_predictions = validation_set.to_dataframe().copy()\n",
    "    factor_predictions['rating'] = model.predict(validation_set)\n",
    "    s = scoring.score_top_5_percent(factor_predictions)\n",
    "    r = scoring.score_rmse(factor_predictions)\n",
    "    return {'score_top_5_percent': s, 'score_rmse': r}\n",
    "\n",
    "grid = gl.toolkits.model_parameter_search.grid_search.create(\n",
    "            (gl.SFrame(training_set), gl.SFrame(test_set)),\n",
    "            gl.factorization_recommender.create,\n",
    "            grid_params,\n",
    "            grid_scorer,\n",
    "            return_model=True,\n",
    ")"
   ]
  },
  {
   "cell_type": "markdown",
   "metadata": {},
   "source": [
    "### Wait for the grid search to finish\n",
    "\n",
    "The grid search code above is asynchronous. We use the `grid` object to check the status of the search. See documentation [here](https://turi.com/products/create/docs/generated/graphlab.toolkits.model_parameter_search.ModelSearchJob.html#graphlab.toolkits.model_parameter_search.ModelSearchJob). We can have the notebook block until all models are complete by calling the `get_results()` method."
   ]
  },
  {
   "cell_type": "code",
   "execution_count": 7,
   "metadata": {
    "collapsed": false
   },
   "outputs": [
    {
     "data": {
      "text/html": [
       "<div style=\"max-height:1000px;max-width:1500px;overflow:auto;\"><table frame=\"box\" rules=\"cols\">\n",
       "    <tr>\n",
       "        <th style=\"padding-left: 1em; padding-right: 1em; text-align: center\">model_id</th>\n",
       "        <th style=\"padding-left: 1em; padding-right: 1em; text-align: center\">num_factors</th>\n",
       "        <th style=\"padding-left: 1em; padding-right: 1em; text-align: center\">regularization</th>\n",
       "        <th style=\"padding-left: 1em; padding-right: 1em; text-align: center\">linear_regularization</th>\n",
       "        <th style=\"padding-left: 1em; padding-right: 1em; text-align: center\">score_top_5_percent</th>\n",
       "        <th style=\"padding-left: 1em; padding-right: 1em; text-align: center\">score_rmse</th>\n",
       "    </tr>\n",
       "    <tr>\n",
       "        <td style=\"padding-left: 1em; padding-right: 1em; text-align: center; vertical-align: top\">47</td>\n",
       "        <td style=\"padding-left: 1em; padding-right: 1em; text-align: center; vertical-align: top\">16</td>\n",
       "        <td style=\"padding-left: 1em; padding-right: 1em; text-align: center; vertical-align: top\">0.001</td>\n",
       "        <td style=\"padding-left: 1em; padding-right: 1em; text-align: center; vertical-align: top\">1e-05</td>\n",
       "        <td style=\"padding-left: 1em; padding-right: 1em; text-align: center; vertical-align: top\">2.76755195131</td>\n",
       "        <td style=\"padding-left: 1em; padding-right: 1em; text-align: center; vertical-align: top\">4.28283319885</td>\n",
       "    </tr>\n",
       "</table>\n",
       "[? rows x 6 columns]<br/>Note: Only the head of the SFrame is printed. This SFrame is lazily evaluated.<br/>You can use sf.materialize() to force materialization.\n",
       "</div>"
      ],
      "text/plain": [
       "Columns:\n",
       "\tmodel_id\tint\n",
       "\tnum_factors\tint\n",
       "\tregularization\tfloat\n",
       "\tlinear_regularization\tfloat\n",
       "\tscore_top_5_percent\tfloat\n",
       "\tscore_rmse\tfloat\n",
       "\n",
       "Rows: Unknown\n",
       "\n",
       "Data:\n",
       "+----------+-------------+----------------+-----------------------+\n",
       "| model_id | num_factors | regularization | linear_regularization |\n",
       "+----------+-------------+----------------+-----------------------+\n",
       "|    47    |      16     |     0.001      |         1e-05         |\n",
       "+----------+-------------+----------------+-----------------------+\n",
       "+---------------------+---------------+\n",
       "| score_top_5_percent |   score_rmse  |\n",
       "+---------------------+---------------+\n",
       "|    2.76755195131    | 4.28283319885 |\n",
       "+---------------------+---------------+\n",
       "[? rows x 6 columns]\n",
       "Note: Only the head of the SFrame is printed. This SFrame is lazily evaluated.\n",
       "You can use sf.materialize() to force materialization."
      ]
     },
     "execution_count": 7,
     "metadata": {},
     "output_type": "execute_result"
    }
   ],
   "source": [
    "results = grid.get_results(wait=True)\n",
    "\n",
    "best_score_top_5_percent = results['score_top_5_percent'].max()\n",
    "\n",
    "cols_of_interest = ['model_id', 'num_factors', 'regularization', 'linear_regularization',\n",
    "                    'score_top_5_percent', 'score_rmse']\n",
    "\n",
    "results[results['score_top_5_percent'] == best_score_top_5_percent][cols_of_interest]"
   ]
  },
  {
   "cell_type": "markdown",
   "metadata": {},
   "source": [
    "If we cared to save the best model in order to deploy it later, here's how we'd do that:\n",
    "\n",
    "```python\n",
    "best_model_id = results[results['score_top_5_percent'] == best_score_top_5_percent]['model_id'][0]\n",
    "best_model = grid.get_models()[best_model_id]\n",
    "best_model.save('gl_trained_joke_recommender')\n",
    "```"
   ]
  },
  {
   "cell_type": "markdown",
   "metadata": {},
   "source": [
    "### Getting the best hyperparameters found by the grid search\n",
    "\n",
    "Once the grid search is complete, we can query for the best hyperparameters:"
   ]
  },
  {
   "cell_type": "markdown",
   "metadata": {},
   "source": [
    "Have a look below at the best hyperparameters for maximizing the **top-5-percent score**. Notice the increase in the regularization penalties! That should make sense from our discussion at the beginning about combatting model variance. More regularization -> less variance -> better predictions."
   ]
  },
  {
   "cell_type": "code",
   "execution_count": 8,
   "metadata": {
    "collapsed": false
   },
   "outputs": [
    {
     "data": {
      "text/plain": [
       "{'item_id': 'joke_id',\n",
       " 'linear_regularization': 1e-05,\n",
       " 'max_iterations': 100,\n",
       " 'num_factors': 16,\n",
       " 'random_seed': 12345,\n",
       " 'regularization': 0.001,\n",
       " 'solver': 'auto',\n",
       " 'target': 'rating',\n",
       " 'user_id': 'user_id',\n",
       " 'verbose': True}"
      ]
     },
     "execution_count": 8,
     "metadata": {},
     "output_type": "execute_result"
    }
   ],
   "source": [
    "best_params_score_top_5_percent = grid.get_best_params('score_top_5_percent', False)\n",
    "best_params_score_top_5_percent"
   ]
  },
  {
   "cell_type": "markdown",
   "metadata": {},
   "source": [
    "Have a look below at the best hyperparamers for minimizing the **test set RMSE**. The model which has the best RMSE score, like the model for top-5-percent, also imposes more regularization penalty, but it only has 2 latent features (`k`)!"
   ]
  },
  {
   "cell_type": "code",
   "execution_count": 9,
   "metadata": {
    "collapsed": false
   },
   "outputs": [
    {
     "data": {
      "text/plain": [
       "{'item_id': 'joke_id',\n",
       " 'linear_regularization': 0.001,\n",
       " 'max_iterations': 100,\n",
       " 'num_factors': 2,\n",
       " 'random_seed': 12345,\n",
       " 'regularization': 0.0001,\n",
       " 'solver': 'auto',\n",
       " 'target': 'rating',\n",
       " 'user_id': 'user_id',\n",
       " 'verbose': True}"
      ]
     },
     "execution_count": 9,
     "metadata": {},
     "output_type": "execute_result"
    }
   ],
   "source": [
    "best_params_score_rmse = grid.get_best_params('score_rmse', True)\n",
    "best_params_score_rmse"
   ]
  },
  {
   "cell_type": "markdown",
   "metadata": {},
   "source": [
    "### Conclusion\n",
    "\n",
    "We used GraphLab to train many many many matrix factorization recommender models.\n",
    "\n",
    "We found a model which performs better than the popularity recommender according to the top-5-percent metric, scoring a __2.76755__. This model increased the regularization penalty from GraphLab's default in order to close the overfitting gap a bit.\n",
    "\n",
    "We also found a _different_ model which minimized the test-set RMSE. This model, like the one above, increased the regularization penatly, but in addition it _decreased_ the number of latent factors (`k`) down to only 2. This closed the overfitting gap even further in order to have the lowest possible test-set RMSE (at least within our search space)."
   ]
  }
 ],
 "metadata": {
  "anaconda-cloud": {},
  "kernelspec": {
   "display_name": "Python [conda env:gl-env]",
   "language": "python",
   "name": "conda-env-gl-env-py"
  },
  "language_info": {
   "codemirror_mode": {
    "name": "ipython",
    "version": 2
   },
   "file_extension": ".py",
   "mimetype": "text/x-python",
   "name": "python",
   "nbconvert_exporter": "python",
   "pygments_lexer": "ipython2",
   "version": "2.7.12"
  }
 },
 "nbformat": 4,
 "nbformat_minor": 2
}
