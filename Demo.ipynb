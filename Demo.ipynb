{
 "cells": [
  {
   "cell_type": "markdown",
   "metadata": {},
   "source": [
    "# Import `Recomender` class"
   ]
  },
  {
   "cell_type": "code",
   "execution_count": 1,
   "metadata": {},
   "outputs": [
    {
     "ename": "ModuleNotFoundError",
     "evalue": "No module named 'tensorflow'",
     "output_type": "error",
     "traceback": [
      "\u001b[0;31m---------------------------------------------------------------------------\u001b[0m",
      "\u001b[0;31mModuleNotFoundError\u001b[0m                       Traceback (most recent call last)",
      "\u001b[0;32m<ipython-input-1-547b1f0c68f6>\u001b[0m in \u001b[0;36m<module>\u001b[0;34m()\u001b[0m\n\u001b[0;32m----> 1\u001b[0;31m \u001b[0;32mfrom\u001b[0m \u001b[0mtfrec\u001b[0m \u001b[0;32mimport\u001b[0m \u001b[0mRecommender\u001b[0m\u001b[0;34m\u001b[0m\u001b[0m\n\u001b[0m",
      "\u001b[0;32m/Users/tyler/Documents/git_repositories/Galvanize-DSI-Austin-4/day31/tfrec/__init__.py\u001b[0m in \u001b[0;36m<module>\u001b[0;34m()\u001b[0m\n\u001b[1;32m      1\u001b[0m \u001b[0;32mfrom\u001b[0m \u001b[0m__future__\u001b[0m \u001b[0;32mimport\u001b[0m \u001b[0mdivision\u001b[0m\u001b[0;34m,\u001b[0m \u001b[0mabsolute_import\u001b[0m\u001b[0;34m,\u001b[0m \u001b[0mprint_function\u001b[0m\u001b[0;34m\u001b[0m\u001b[0m\n\u001b[1;32m      2\u001b[0m \u001b[0;34m\u001b[0m\u001b[0m\n\u001b[0;32m----> 3\u001b[0;31m \u001b[0;32mfrom\u001b[0m \u001b[0;34m.\u001b[0m\u001b[0mrecommender\u001b[0m \u001b[0;32mimport\u001b[0m \u001b[0mRecommender\u001b[0m\u001b[0;34m\u001b[0m\u001b[0m\n\u001b[0m\u001b[1;32m      4\u001b[0m \u001b[0;34m\u001b[0m\u001b[0m\n",
      "\u001b[0;32m/Users/tyler/Documents/git_repositories/Galvanize-DSI-Austin-4/day31/tfrec/recommender.py\u001b[0m in \u001b[0;36m<module>\u001b[0;34m()\u001b[0m\n\u001b[1;32m      2\u001b[0m \u001b[0;32mfrom\u001b[0m \u001b[0;34m.\u001b[0m \u001b[0;32mimport\u001b[0m \u001b[0mlogger\u001b[0m\u001b[0;34m\u001b[0m\u001b[0m\n\u001b[1;32m      3\u001b[0m \u001b[0;32mfrom\u001b[0m \u001b[0muuid\u001b[0m \u001b[0;32mimport\u001b[0m \u001b[0muuid4\u001b[0m \u001b[0;32mas\u001b[0m \u001b[0mgen_uuid\u001b[0m\u001b[0;34m\u001b[0m\u001b[0m\n\u001b[0;32m----> 4\u001b[0;31m \u001b[0;32mimport\u001b[0m \u001b[0mtensorflow\u001b[0m \u001b[0;32mas\u001b[0m \u001b[0mtf\u001b[0m\u001b[0;34m\u001b[0m\u001b[0m\n\u001b[0m\u001b[1;32m      5\u001b[0m \u001b[0;32mimport\u001b[0m \u001b[0mnumpy\u001b[0m \u001b[0;32mas\u001b[0m \u001b[0mnp\u001b[0m\u001b[0;34m\u001b[0m\u001b[0m\n\u001b[1;32m      6\u001b[0m \u001b[0;32mfrom\u001b[0m \u001b[0msklearn\u001b[0m\u001b[0;34m.\u001b[0m\u001b[0mbase\u001b[0m \u001b[0;32mimport\u001b[0m \u001b[0mBaseEstimator\u001b[0m\u001b[0;34m\u001b[0m\u001b[0m\n",
      "\u001b[0;31mModuleNotFoundError\u001b[0m: No module named 'tensorflow'"
     ]
    }
   ],
   "source": [
    "from tfrec import Recommender"
   ]
  },
  {
   "cell_type": "markdown",
   "metadata": {},
   "source": [
    "# A Small Dataset"
   ]
  },
  {
   "cell_type": "code",
   "execution_count": 2,
   "metadata": {
    "collapsed": true
   },
   "outputs": [],
   "source": [
    "import pandas as pd\n",
    "import numpy as np"
   ]
  },
  {
   "cell_type": "code",
   "execution_count": 3,
   "metadata": {},
   "outputs": [
    {
     "data": {
      "text/html": [
       "<div>\n",
       "<table border=\"1\" class=\"dataframe\">\n",
       "  <thead>\n",
       "    <tr style=\"text-align: right;\">\n",
       "      <th></th>\n",
       "      <th>Matrix</th>\n",
       "      <th>Alien</th>\n",
       "      <th>StarWars</th>\n",
       "      <th>Casablanca</th>\n",
       "      <th>Titanic</th>\n",
       "    </tr>\n",
       "  </thead>\n",
       "  <tbody>\n",
       "    <tr>\n",
       "      <th>ryan</th>\n",
       "      <td>4</td>\n",
       "      <td>3</td>\n",
       "      <td>5</td>\n",
       "      <td>2</td>\n",
       "      <td>1</td>\n",
       "    </tr>\n",
       "    <tr>\n",
       "      <th>scott g</th>\n",
       "      <td>3</td>\n",
       "      <td>5</td>\n",
       "      <td>5</td>\n",
       "      <td>1</td>\n",
       "      <td>2</td>\n",
       "    </tr>\n",
       "    <tr>\n",
       "      <th>annie</th>\n",
       "      <td>4</td>\n",
       "      <td>4</td>\n",
       "      <td>4</td>\n",
       "      <td>4</td>\n",
       "      <td>4</td>\n",
       "    </tr>\n",
       "    <tr>\n",
       "      <th>scott s</th>\n",
       "      <td>5</td>\n",
       "      <td>5</td>\n",
       "      <td>5</td>\n",
       "      <td>5</td>\n",
       "      <td>5</td>\n",
       "    </tr>\n",
       "    <tr>\n",
       "      <th>nicole</th>\n",
       "      <td>0</td>\n",
       "      <td>2</td>\n",
       "      <td>0</td>\n",
       "      <td>4</td>\n",
       "      <td>4</td>\n",
       "    </tr>\n",
       "    <tr>\n",
       "      <th>carly</th>\n",
       "      <td>1</td>\n",
       "      <td>0</td>\n",
       "      <td>0</td>\n",
       "      <td>5</td>\n",
       "      <td>5</td>\n",
       "    </tr>\n",
       "    <tr>\n",
       "      <th>bill</th>\n",
       "      <td>0</td>\n",
       "      <td>1</td>\n",
       "      <td>1</td>\n",
       "      <td>4</td>\n",
       "      <td>3</td>\n",
       "    </tr>\n",
       "  </tbody>\n",
       "</table>\n",
       "</div>"
      ],
      "text/plain": [
       "         Matrix  Alien  StarWars  Casablanca  Titanic\n",
       "ryan          4      3         5           2        1\n",
       "scott g       3      5         5           1        2\n",
       "annie         4      4         4           4        4\n",
       "scott s       5      5         5           5        5\n",
       "nicole        0      2         0           4        4\n",
       "carly         1      0         0           5        5\n",
       "bill          0      1         1           4        3"
      ]
     },
     "execution_count": 3,
     "metadata": {},
     "output_type": "execute_result"
    }
   ],
   "source": [
    "M = np.array([[4, 3, 5, 2, 1],\n",
    "              [3, 5, 5, 1, 2],\n",
    "              [4, 4, 4, 4, 4],\n",
    "              [5, 5, 5, 5, 5],\n",
    "              [0, 2, 0, 4, 4],\n",
    "              [1, 0, 0, 5, 5],\n",
    "              [0, 1, 1, 4, 3]])\n",
    "data_matrix = pd.DataFrame(M, index=['ryan', 'scott g', 'annie', 'scott s', 'nicole', 'carly', 'bill'], columns=['Matrix', 'Alien', 'StarWars', 'Casablanca', 'Titanic'])\n",
    "data_matrix"
   ]
  },
  {
   "cell_type": "markdown",
   "metadata": {},
   "source": [
    "**Note:** Zeros above denote missing ratings."
   ]
  },
  {
   "cell_type": "markdown",
   "metadata": {},
   "source": [
    "# Transform the Dataset"
   ]
  },
  {
   "cell_type": "code",
   "execution_count": 4,
   "metadata": {},
   "outputs": [
    {
     "data": {
      "text/html": [
       "<div>\n",
       "<table border=\"1\" class=\"dataframe\">\n",
       "  <thead>\n",
       "    <tr style=\"text-align: right;\">\n",
       "      <th></th>\n",
       "      <th>user</th>\n",
       "      <th>movie</th>\n",
       "      <th>rating</th>\n",
       "    </tr>\n",
       "  </thead>\n",
       "  <tbody>\n",
       "    <tr>\n",
       "      <th>0</th>\n",
       "      <td>ryan</td>\n",
       "      <td>Matrix</td>\n",
       "      <td>4</td>\n",
       "    </tr>\n",
       "    <tr>\n",
       "      <th>1</th>\n",
       "      <td>ryan</td>\n",
       "      <td>Alien</td>\n",
       "      <td>3</td>\n",
       "    </tr>\n",
       "    <tr>\n",
       "      <th>2</th>\n",
       "      <td>ryan</td>\n",
       "      <td>StarWars</td>\n",
       "      <td>5</td>\n",
       "    </tr>\n",
       "    <tr>\n",
       "      <th>3</th>\n",
       "      <td>ryan</td>\n",
       "      <td>Casablanca</td>\n",
       "      <td>2</td>\n",
       "    </tr>\n",
       "    <tr>\n",
       "      <th>4</th>\n",
       "      <td>ryan</td>\n",
       "      <td>Titanic</td>\n",
       "      <td>1</td>\n",
       "    </tr>\n",
       "    <tr>\n",
       "      <th>5</th>\n",
       "      <td>scott g</td>\n",
       "      <td>Matrix</td>\n",
       "      <td>3</td>\n",
       "    </tr>\n",
       "    <tr>\n",
       "      <th>6</th>\n",
       "      <td>scott g</td>\n",
       "      <td>Alien</td>\n",
       "      <td>5</td>\n",
       "    </tr>\n",
       "    <tr>\n",
       "      <th>7</th>\n",
       "      <td>scott g</td>\n",
       "      <td>StarWars</td>\n",
       "      <td>5</td>\n",
       "    </tr>\n",
       "    <tr>\n",
       "      <th>8</th>\n",
       "      <td>scott g</td>\n",
       "      <td>Casablanca</td>\n",
       "      <td>1</td>\n",
       "    </tr>\n",
       "    <tr>\n",
       "      <th>9</th>\n",
       "      <td>scott g</td>\n",
       "      <td>Titanic</td>\n",
       "      <td>2</td>\n",
       "    </tr>\n",
       "    <tr>\n",
       "      <th>10</th>\n",
       "      <td>annie</td>\n",
       "      <td>Matrix</td>\n",
       "      <td>4</td>\n",
       "    </tr>\n",
       "    <tr>\n",
       "      <th>11</th>\n",
       "      <td>annie</td>\n",
       "      <td>Alien</td>\n",
       "      <td>4</td>\n",
       "    </tr>\n",
       "    <tr>\n",
       "      <th>12</th>\n",
       "      <td>annie</td>\n",
       "      <td>StarWars</td>\n",
       "      <td>4</td>\n",
       "    </tr>\n",
       "    <tr>\n",
       "      <th>13</th>\n",
       "      <td>annie</td>\n",
       "      <td>Casablanca</td>\n",
       "      <td>4</td>\n",
       "    </tr>\n",
       "    <tr>\n",
       "      <th>14</th>\n",
       "      <td>annie</td>\n",
       "      <td>Titanic</td>\n",
       "      <td>4</td>\n",
       "    </tr>\n",
       "    <tr>\n",
       "      <th>15</th>\n",
       "      <td>scott s</td>\n",
       "      <td>Matrix</td>\n",
       "      <td>5</td>\n",
       "    </tr>\n",
       "    <tr>\n",
       "      <th>16</th>\n",
       "      <td>scott s</td>\n",
       "      <td>Alien</td>\n",
       "      <td>5</td>\n",
       "    </tr>\n",
       "    <tr>\n",
       "      <th>17</th>\n",
       "      <td>scott s</td>\n",
       "      <td>StarWars</td>\n",
       "      <td>5</td>\n",
       "    </tr>\n",
       "    <tr>\n",
       "      <th>18</th>\n",
       "      <td>scott s</td>\n",
       "      <td>Casablanca</td>\n",
       "      <td>5</td>\n",
       "    </tr>\n",
       "    <tr>\n",
       "      <th>19</th>\n",
       "      <td>scott s</td>\n",
       "      <td>Titanic</td>\n",
       "      <td>5</td>\n",
       "    </tr>\n",
       "    <tr>\n",
       "      <th>20</th>\n",
       "      <td>nicole</td>\n",
       "      <td>Alien</td>\n",
       "      <td>2</td>\n",
       "    </tr>\n",
       "    <tr>\n",
       "      <th>21</th>\n",
       "      <td>nicole</td>\n",
       "      <td>Casablanca</td>\n",
       "      <td>4</td>\n",
       "    </tr>\n",
       "    <tr>\n",
       "      <th>22</th>\n",
       "      <td>nicole</td>\n",
       "      <td>Titanic</td>\n",
       "      <td>4</td>\n",
       "    </tr>\n",
       "    <tr>\n",
       "      <th>23</th>\n",
       "      <td>carly</td>\n",
       "      <td>Matrix</td>\n",
       "      <td>1</td>\n",
       "    </tr>\n",
       "    <tr>\n",
       "      <th>24</th>\n",
       "      <td>carly</td>\n",
       "      <td>Casablanca</td>\n",
       "      <td>5</td>\n",
       "    </tr>\n",
       "    <tr>\n",
       "      <th>25</th>\n",
       "      <td>carly</td>\n",
       "      <td>Titanic</td>\n",
       "      <td>5</td>\n",
       "    </tr>\n",
       "    <tr>\n",
       "      <th>26</th>\n",
       "      <td>bill</td>\n",
       "      <td>Alien</td>\n",
       "      <td>1</td>\n",
       "    </tr>\n",
       "    <tr>\n",
       "      <th>27</th>\n",
       "      <td>bill</td>\n",
       "      <td>StarWars</td>\n",
       "      <td>1</td>\n",
       "    </tr>\n",
       "    <tr>\n",
       "      <th>28</th>\n",
       "      <td>bill</td>\n",
       "      <td>Casablanca</td>\n",
       "      <td>4</td>\n",
       "    </tr>\n",
       "    <tr>\n",
       "      <th>29</th>\n",
       "      <td>bill</td>\n",
       "      <td>Titanic</td>\n",
       "      <td>3</td>\n",
       "    </tr>\n",
       "  </tbody>\n",
       "</table>\n",
       "</div>"
      ],
      "text/plain": [
       "       user       movie  rating\n",
       "0      ryan      Matrix       4\n",
       "1      ryan       Alien       3\n",
       "2      ryan    StarWars       5\n",
       "3      ryan  Casablanca       2\n",
       "4      ryan     Titanic       1\n",
       "5   scott g      Matrix       3\n",
       "6   scott g       Alien       5\n",
       "7   scott g    StarWars       5\n",
       "8   scott g  Casablanca       1\n",
       "9   scott g     Titanic       2\n",
       "10    annie      Matrix       4\n",
       "11    annie       Alien       4\n",
       "12    annie    StarWars       4\n",
       "13    annie  Casablanca       4\n",
       "14    annie     Titanic       4\n",
       "15  scott s      Matrix       5\n",
       "16  scott s       Alien       5\n",
       "17  scott s    StarWars       5\n",
       "18  scott s  Casablanca       5\n",
       "19  scott s     Titanic       5\n",
       "20   nicole       Alien       2\n",
       "21   nicole  Casablanca       4\n",
       "22   nicole     Titanic       4\n",
       "23    carly      Matrix       1\n",
       "24    carly  Casablanca       5\n",
       "25    carly     Titanic       5\n",
       "26     bill       Alien       1\n",
       "27     bill    StarWars       1\n",
       "28     bill  Casablanca       4\n",
       "29     bill     Titanic       3"
      ]
     },
     "execution_count": 4,
     "metadata": {},
     "output_type": "execute_result"
    }
   ],
   "source": [
    "users = []\n",
    "movies = []\n",
    "ratings = []\n",
    "\n",
    "for name, row in data_matrix.iterrows():\n",
    "    for movie, rating in row.iteritems():\n",
    "        if rating > 0:\n",
    "            users.append(name)\n",
    "            movies.append(movie)\n",
    "            ratings.append(rating)\n",
    "            \n",
    "data_ratings = pd.DataFrame({'user': users, 'movie': movies, 'rating': ratings}, columns=['user', 'movie', 'rating'])\n",
    "data_ratings"
   ]
  },
  {
   "cell_type": "markdown",
   "metadata": {},
   "source": [
    "# Train The Model!\n",
    "\n",
    "**Note:** Since this is a small, silly example WE'RE NOT DOING CROSS VALIDATION! This is just an example of how to use the model."
   ]
  },
  {
   "cell_type": "code",
   "execution_count": 5,
   "metadata": {},
   "outputs": [
    {
     "name": "stderr",
     "output_type": "stream",
     "text": [
      "2017-05-15 00:19:40,388: tfrec.recommender : INFO      : will `fit()` fresh\n",
      "2017-05-15 00:19:40,392: tfrec.recommender : INFO      : new_num_users: 9, new_num_items: 7\n",
      "2017-05-15 00:19:40,393: tfrec.recommender : INFO      : num_users: 9, num_items: 7\n",
      "2017-05-15 00:19:41,476: tfrec.recommender : INFO      : instantiated a new TensorFlow session\n",
      "2017-05-15 00:19:41,779: tfrec.recommender : INFO      : Starting Gradient Descent for 5000 iterations\n",
      "2017-05-15 00:19:41,789: tfrec.recommender : INFO      : training set RMSE = 1.4545047283172607\n",
      "2017-05-15 00:19:41,840: tfrec.recommender : INFO      : Finished iteration #1\n",
      "2017-05-15 00:19:41,849: tfrec.recommender : INFO      : training set RMSE = 1.449751853942871\n",
      "2017-05-15 00:19:44,315: tfrec.recommender : INFO      : Finished iteration #1001\n",
      "2017-05-15 00:19:44,317: tfrec.recommender : INFO      : training set RMSE = 0.2630063593387604\n",
      "2017-05-15 00:19:46,736: tfrec.recommender : INFO      : Finished iteration #2001\n",
      "2017-05-15 00:19:46,738: tfrec.recommender : INFO      : training set RMSE = 0.05950677767395973\n",
      "2017-05-15 00:19:49,105: tfrec.recommender : INFO      : Finished iteration #3001\n",
      "2017-05-15 00:19:49,107: tfrec.recommender : INFO      : training set RMSE = 0.025072941556572914\n",
      "2017-05-15 00:19:51,473: tfrec.recommender : INFO      : Finished iteration #4001\n",
      "2017-05-15 00:19:51,474: tfrec.recommender : INFO      : training set RMSE = 0.015401780605316162\n",
      "2017-05-15 00:19:53,864: tfrec.recommender : INFO      : Ending Gradient Descent\n",
      "2017-05-15 00:19:53,865: tfrec.recommender : INFO      : training set RMSE = 0.011816328391432762\n"
     ]
    },
    {
     "data": {
      "text/plain": [
       "Recommender(batch_size=-1, dtype='float32', init_factor_mean=0.0,\n",
       "      init_factor_stddev=0.01, k=8, lambda_biases=0.0001,\n",
       "      lambda_factors=0.0001, learning_rate=0.001, n_iter=5000)"
      ]
     },
     "execution_count": 5,
     "metadata": {},
     "output_type": "execute_result"
    }
   ],
   "source": [
    "model = Recommender(k=8,\n",
    "                    dtype='float32',\n",
    "                    lambda_factors=0.0001,\n",
    "                    lambda_biases=0.0001,\n",
    "                    init_factor_mean=0.0,\n",
    "                    init_factor_stddev=0.01,\n",
    "                    n_iter=5000,\n",
    "                    learning_rate=1e-03,\n",
    "                    batch_size=-1)\n",
    "\n",
    "X = data_ratings[['user', 'movie']].values\n",
    "y = data_ratings['rating'].values\n",
    "\n",
    "model.fit(X, y, verbose=True, verbose_period=1000)"
   ]
  },
  {
   "cell_type": "code",
   "execution_count": 6,
   "metadata": {},
   "outputs": [
    {
     "data": {
      "text/plain": [
       "array([ 2.63598251,  2.63598251,  4.00939083,  2.8446486 ,  3.71903157,\n",
       "        1.45365047,  1.42439508], dtype=float32)"
      ]
     },
     "execution_count": 6,
     "metadata": {},
     "output_type": "execute_result"
    }
   ],
   "source": [
    "new_user = [('Matrix', 5), ('StarWars', 3), ('Casablanca', 1)]\n",
    "new_user_predictions = model.predict_new_user(new_user, n_iter=1000)\n",
    "new_user_predictions"
   ]
  },
  {
   "cell_type": "code",
   "execution_count": 7,
   "metadata": {},
   "outputs": [
    {
     "data": {
      "text/plain": [
       "{0: '__unknown__',\n",
       " 1: '__new_entry__',\n",
       " 2: 'Matrix',\n",
       " 3: 'Alien',\n",
       " 4: 'StarWars',\n",
       " 5: 'Casablanca',\n",
       " 6: 'Titanic'}"
      ]
     },
     "execution_count": 7,
     "metadata": {},
     "output_type": "execute_result"
    }
   ],
   "source": [
    "model.index_to_item_map_"
   ]
  },
  {
   "cell_type": "code",
   "execution_count": 8,
   "metadata": {},
   "outputs": [
    {
     "data": {
      "text/plain": [
       "[(4.0093908, 'Matrix'),\n",
       " (3.7190316, 'StarWars'),\n",
       " (2.8446486, 'Alien'),\n",
       " (2.6359825, '__unknown__'),\n",
       " (2.6359825, '__new_entry__'),\n",
       " (1.4536505, 'Casablanca'),\n",
       " (1.4243951, 'Titanic')]"
      ]
     },
     "execution_count": 8,
     "metadata": {},
     "output_type": "execute_result"
    }
   ],
   "source": [
    "ordered_movies = sorted([(val, model.index_to_item_map_[i]) for i, val in enumerate(new_user_predictions)], reverse=True)\n",
    "ordered_movies"
   ]
  },
  {
   "cell_type": "markdown",
   "metadata": {
    "collapsed": true
   },
   "source": [
    "# Visualize with TensorBoard"
   ]
  },
  {
   "cell_type": "code",
   "execution_count": 9,
   "metadata": {
    "collapsed": true
   },
   "outputs": [],
   "source": [
    "import tensorflow as tf\n",
    "writer = tf.summary.FileWriter('tfout')\n",
    "writer.add_graph(model.sess.graph)"
   ]
  },
  {
   "cell_type": "markdown",
   "metadata": {},
   "source": [
    "Now, run the command:\n",
    "\n",
    "```bash\n",
    "> tensorboard --logdir tfout/\n",
    "```"
   ]
  },
  {
   "cell_type": "code",
   "execution_count": null,
   "metadata": {
    "collapsed": true
   },
   "outputs": [],
   "source": []
  }
 ],
 "metadata": {
  "kernelspec": {
   "display_name": "Python 3",
   "language": "python",
   "name": "python3"
  },
  "language_info": {
   "codemirror_mode": {
    "name": "ipython",
    "version": 3
   },
   "file_extension": ".py",
   "mimetype": "text/x-python",
   "name": "python",
   "nbconvert_exporter": "python",
   "pygments_lexer": "ipython3",
   "version": "3.6.0"
  }
 },
 "nbformat": 4,
 "nbformat_minor": 2
}
