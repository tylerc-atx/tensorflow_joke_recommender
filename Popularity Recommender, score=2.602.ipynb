{
 "cells": [
  {
   "cell_type": "markdown",
   "metadata": {},
   "source": [
    "# A simple Popularity Recommendation System for the Jester Dataset!"
   ]
  },
  {
   "cell_type": "code",
   "execution_count": 1,
   "metadata": {
    "collapsed": true
   },
   "outputs": [],
   "source": [
    "import numpy as np\n",
    "import pandas as pd\n",
    "import cPickle as pickle"
   ]
  },
  {
   "cell_type": "markdown",
   "metadata": {},
   "source": [
    "### Load the dataset"
   ]
  },
  {
   "cell_type": "code",
   "execution_count": 2,
   "metadata": {
    "collapsed": true
   },
   "outputs": [],
   "source": [
    "training_set = pd.read_csv('jester_train.csv')\n",
    "test_set = pd.read_csv('jester_test.csv')"
   ]
  },
  {
   "cell_type": "code",
   "execution_count": 3,
   "metadata": {
    "collapsed": false
   },
   "outputs": [
    {
     "data": {
      "text/html": [
       "<div>\n",
       "<table border=\"1\" class=\"dataframe\">\n",
       "  <thead>\n",
       "    <tr style=\"text-align: right;\">\n",
       "      <th></th>\n",
       "      <th>user_id</th>\n",
       "      <th>joke_id</th>\n",
       "      <th>rating</th>\n",
       "    </tr>\n",
       "  </thead>\n",
       "  <tbody>\n",
       "    <tr>\n",
       "      <th>0</th>\n",
       "      <td>7302</td>\n",
       "      <td>29</td>\n",
       "      <td>7.156</td>\n",
       "    </tr>\n",
       "    <tr>\n",
       "      <th>1</th>\n",
       "      <td>61815</td>\n",
       "      <td>46</td>\n",
       "      <td>6.375</td>\n",
       "    </tr>\n",
       "    <tr>\n",
       "      <th>2</th>\n",
       "      <td>31128</td>\n",
       "      <td>96</td>\n",
       "      <td>2.281</td>\n",
       "    </tr>\n",
       "    <tr>\n",
       "      <th>3</th>\n",
       "      <td>36125</td>\n",
       "      <td>147</td>\n",
       "      <td>-1.781</td>\n",
       "    </tr>\n",
       "    <tr>\n",
       "      <th>4</th>\n",
       "      <td>18007</td>\n",
       "      <td>60</td>\n",
       "      <td>2.188</td>\n",
       "    </tr>\n",
       "  </tbody>\n",
       "</table>\n",
       "</div>"
      ],
      "text/plain": [
       "   user_id  joke_id  rating\n",
       "0     7302       29   7.156\n",
       "1    61815       46   6.375\n",
       "2    31128       96   2.281\n",
       "3    36125      147  -1.781\n",
       "4    18007       60   2.188"
      ]
     },
     "execution_count": 3,
     "metadata": {},
     "output_type": "execute_result"
    }
   ],
   "source": [
    "# Sanity check:\n",
    "training_set.head()"
   ]
  },
  {
   "cell_type": "code",
   "execution_count": 4,
   "metadata": {
    "collapsed": false
   },
   "outputs": [
    {
     "data": {
      "text/html": [
       "<div>\n",
       "<table border=\"1\" class=\"dataframe\">\n",
       "  <thead>\n",
       "    <tr style=\"text-align: right;\">\n",
       "      <th></th>\n",
       "      <th>user_id</th>\n",
       "      <th>joke_id</th>\n",
       "    </tr>\n",
       "  </thead>\n",
       "  <tbody>\n",
       "    <tr>\n",
       "      <th>0</th>\n",
       "      <td>30762</td>\n",
       "      <td>24</td>\n",
       "    </tr>\n",
       "    <tr>\n",
       "      <th>1</th>\n",
       "      <td>54667</td>\n",
       "      <td>128</td>\n",
       "    </tr>\n",
       "    <tr>\n",
       "      <th>2</th>\n",
       "      <td>38515</td>\n",
       "      <td>68</td>\n",
       "    </tr>\n",
       "    <tr>\n",
       "      <th>3</th>\n",
       "      <td>44643</td>\n",
       "      <td>39</td>\n",
       "    </tr>\n",
       "    <tr>\n",
       "      <th>4</th>\n",
       "      <td>58677</td>\n",
       "      <td>13</td>\n",
       "    </tr>\n",
       "  </tbody>\n",
       "</table>\n",
       "</div>"
      ],
      "text/plain": [
       "   user_id  joke_id\n",
       "0    30762       24\n",
       "1    54667      128\n",
       "2    38515       68\n",
       "3    44643       39\n",
       "4    58677       13"
      ]
     },
     "execution_count": 4,
     "metadata": {},
     "output_type": "execute_result"
    }
   ],
   "source": [
    "# Sanity check:\n",
    "test_set.head()"
   ]
  },
  {
   "cell_type": "code",
   "execution_count": 5,
   "metadata": {
    "collapsed": false
   },
   "outputs": [],
   "source": [
    "# The joke text is NOT used by this recommender, but the following code\n",
    "# shows how to load the joke text in case you want to use it.\n",
    "jokes = pickle.load(open('jester_jokes.pkl', 'rb'))"
   ]
  },
  {
   "cell_type": "code",
   "execution_count": 6,
   "metadata": {
    "collapsed": false
   },
   "outputs": [
    {
     "name": "stdout",
     "output_type": "stream",
     "text": [
      "150\n",
      "What's the difference between a Macintosh and an Etch-a-Sketch?\n",
      "\n",
      "You don't have to shake the Mac to clear the screen.\n"
     ]
    }
   ],
   "source": [
    "# Sanity checks:\n",
    "print len(jokes)\n",
    "print jokes[19]"
   ]
  },
  {
   "cell_type": "markdown",
   "metadata": {},
   "source": [
    "### Compute the average rating of every joke in the training set\n",
    "\n",
    "We'd expect that there are some jokes which on average are rated very well (high values), and that there are some jokes which on average are rated very poorly (low values). We'll decide that the highly rated jokes are \"popular\", and that the order of their popularity is in decreasing order of their average rating in the dataset. This decision will be the basis of our popularity recommender.\n",
    "\n",
    "TODO: We should check to see if every joke is equally represented in this dataset. It's possible that some jokes have only been rated a few times, meaning their average rating may not be reliable as a proxy for popularity. We'll leave this for the next person to work on. :P"
   ]
  },
  {
   "cell_type": "code",
   "execution_count": 7,
   "metadata": {
    "collapsed": false
   },
   "outputs": [],
   "source": [
    "avg_ratings = training_set.groupby('joke_id')['rating'].apply(np.mean)"
   ]
  },
  {
   "cell_type": "code",
   "execution_count": 8,
   "metadata": {
    "collapsed": false
   },
   "outputs": [
    {
     "name": "stdout",
     "output_type": "stream",
     "text": [
      "worst rated jokes\n",
      "joke_id\n",
      "141   -2.792088\n",
      "124   -2.214896\n",
      "7     -1.803772\n",
      "5     -1.601697\n",
      "16    -1.573728\n",
      "Name: rating, dtype: float64\n",
      "\n",
      "best rated jokes\n",
      "joke_id\n",
      "105    3.748893\n",
      "53     3.682430\n",
      "89     3.585759\n",
      "35     3.558687\n",
      "129    3.545080\n",
      "Name: rating, dtype: float64\n",
      "\n"
     ]
    }
   ],
   "source": [
    "# Sanity checks:\n",
    "\n",
    "print 'worst rated jokes'\n",
    "print avg_ratings.sort_values(ascending=True).head()\n",
    "print\n",
    "\n",
    "print 'best rated jokes'\n",
    "print avg_ratings.sort_values(ascending=False).head()\n",
    "print"
   ]
  },
  {
   "cell_type": "markdown",
   "metadata": {},
   "source": [
    "### Build the predictions\n",
    "\n",
    "We'll use the average rating of each joke to predict the future rating of that joke."
   ]
  },
  {
   "cell_type": "code",
   "execution_count": 9,
   "metadata": {
    "collapsed": false
   },
   "outputs": [
    {
     "data": {
      "text/html": [
       "<div>\n",
       "<table border=\"1\" class=\"dataframe\">\n",
       "  <thead>\n",
       "    <tr style=\"text-align: right;\">\n",
       "      <th></th>\n",
       "      <th>user_id</th>\n",
       "      <th>joke_id</th>\n",
       "    </tr>\n",
       "  </thead>\n",
       "  <tbody>\n",
       "    <tr>\n",
       "      <th>0</th>\n",
       "      <td>30762</td>\n",
       "      <td>24</td>\n",
       "    </tr>\n",
       "    <tr>\n",
       "      <th>1</th>\n",
       "      <td>54667</td>\n",
       "      <td>128</td>\n",
       "    </tr>\n",
       "    <tr>\n",
       "      <th>2</th>\n",
       "      <td>38515</td>\n",
       "      <td>68</td>\n",
       "    </tr>\n",
       "    <tr>\n",
       "      <th>3</th>\n",
       "      <td>44643</td>\n",
       "      <td>39</td>\n",
       "    </tr>\n",
       "    <tr>\n",
       "      <th>4</th>\n",
       "      <td>58677</td>\n",
       "      <td>13</td>\n",
       "    </tr>\n",
       "  </tbody>\n",
       "</table>\n",
       "</div>"
      ],
      "text/plain": [
       "   user_id  joke_id\n",
       "0    30762       24\n",
       "1    54667      128\n",
       "2    38515       68\n",
       "3    44643       39\n",
       "4    58677       13"
      ]
     },
     "execution_count": 9,
     "metadata": {},
     "output_type": "execute_result"
    }
   ],
   "source": [
    "# Recall:\n",
    "test_set.head()"
   ]
  },
  {
   "cell_type": "code",
   "execution_count": 10,
   "metadata": {
    "collapsed": false
   },
   "outputs": [
    {
     "data": {
      "text/html": [
       "<div>\n",
       "<table border=\"1\" class=\"dataframe\">\n",
       "  <thead>\n",
       "    <tr style=\"text-align: right;\">\n",
       "      <th></th>\n",
       "      <th>user_id</th>\n",
       "      <th>joke_id</th>\n",
       "      <th>rating</th>\n",
       "    </tr>\n",
       "  </thead>\n",
       "  <tbody>\n",
       "    <tr>\n",
       "      <th>0</th>\n",
       "      <td>30762</td>\n",
       "      <td>24</td>\n",
       "      <td>-1.141450</td>\n",
       "    </tr>\n",
       "    <tr>\n",
       "      <th>1</th>\n",
       "      <td>54667</td>\n",
       "      <td>128</td>\n",
       "      <td>2.539236</td>\n",
       "    </tr>\n",
       "    <tr>\n",
       "      <th>2</th>\n",
       "      <td>38515</td>\n",
       "      <td>68</td>\n",
       "      <td>3.382160</td>\n",
       "    </tr>\n",
       "    <tr>\n",
       "      <th>3</th>\n",
       "      <td>44643</td>\n",
       "      <td>39</td>\n",
       "      <td>1.750292</td>\n",
       "    </tr>\n",
       "    <tr>\n",
       "      <th>4</th>\n",
       "      <td>58677</td>\n",
       "      <td>13</td>\n",
       "      <td>-0.561356</td>\n",
       "    </tr>\n",
       "  </tbody>\n",
       "</table>\n",
       "</div>"
      ],
      "text/plain": [
       "   user_id  joke_id    rating\n",
       "0    30762       24 -1.141450\n",
       "1    54667      128  2.539236\n",
       "2    38515       68  3.382160\n",
       "3    44643       39  1.750292\n",
       "4    58677       13 -0.561356"
      ]
     },
     "execution_count": 10,
     "metadata": {},
     "output_type": "execute_result"
    }
   ],
   "source": [
    "# Create the predictions by joining the joke_id of each row in the test set\n",
    "# with the average rating for that joke, which will be our prediction of the\n",
    "# future rating of that joke.\n",
    "test_set_predictions = test_set.join(avg_ratings, on='joke_id')\n",
    "\n",
    "# Sanity check:\n",
    "test_set_predictions.head()"
   ]
  },
  {
   "cell_type": "markdown",
   "metadata": {},
   "source": [
    "### Score the predictions\n",
    "\n",
    "There are two ways to do this:\n",
    "\n",
    "1. We can write our predictions to a file and run the stand-alone scoring script.\n",
    "\n",
    "2. We can import the scoring function directly and invoke it.\n",
    "\n",
    "I'll show both ways below."
   ]
  },
  {
   "cell_type": "code",
   "execution_count": 11,
   "metadata": {
    "collapsed": false
   },
   "outputs": [
    {
     "name": "stdout",
     "output_type": "stream",
     "text": [
      "2.60245618197\r\n"
     ]
    }
   ],
   "source": [
    "# WAY 1\n",
    "\n",
    "test_set_predictions.to_csv('predictions.csv', index=False)\n",
    "\n",
    "!python scoring.py predictions.csv"
   ]
  },
  {
   "cell_type": "code",
   "execution_count": 12,
   "metadata": {
    "collapsed": false
   },
   "outputs": [
    {
     "data": {
      "text/plain": [
       "2.6024561819684955"
      ]
     },
     "execution_count": 12,
     "metadata": {},
     "output_type": "execute_result"
    }
   ],
   "source": [
    "# WAY 2\n",
    "\n",
    "from scoring import score_top_5_percent\n",
    "\n",
    "score_top_5_percent(test_set_predictions)"
   ]
  },
  {
   "cell_type": "code",
   "execution_count": null,
   "metadata": {
    "collapsed": true
   },
   "outputs": [],
   "source": []
  }
 ],
 "metadata": {
  "anaconda-cloud": {},
  "kernelspec": {
   "display_name": "Python [default]",
   "language": "python",
   "name": "python2"
  },
  "language_info": {
   "codemirror_mode": {
    "name": "ipython",
    "version": 2
   },
   "file_extension": ".py",
   "mimetype": "text/x-python",
   "name": "python",
   "nbconvert_exporter": "python",
   "pygments_lexer": "ipython2",
   "version": "2.7.12"
  }
 },
 "nbformat": 4,
 "nbformat_minor": 2
}
